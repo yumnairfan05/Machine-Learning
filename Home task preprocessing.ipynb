{
 "cells": [
  {
   "cell_type": "markdown",
   "id": "6140f665-c896-4725-97e4-1a4fb7c2e34e",
   "metadata": {},
   "source": [
    "# 1. Import necessary libraries"
   ]
  },
  {
   "cell_type": "code",
   "execution_count": 2,
   "id": "614918bb-26fe-4279-b895-437579a0f5dd",
   "metadata": {},
   "outputs": [],
   "source": [
    "import pandas as pd\n",
    "import numpy as np\n",
    "from sklearn.model_selection import train_test_split\n",
    "from sklearn.preprocessing import StandardScaler, MinMaxScaler, LabelEncoder, OneHotEncoder\n",
    "from sklearn.impute import SimpleImputer"
   ]
  },
  {
   "cell_type": "markdown",
   "id": "858424de-8f5b-4839-89b1-141394ab9af2",
   "metadata": {},
   "source": [
    "# 2. Load dataset"
   ]
  },
  {
   "cell_type": "code",
   "execution_count": 4,
   "id": "c7ad62ca-4652-488e-8e80-d49da7424930",
   "metadata": {},
   "outputs": [],
   "source": [
    "df = pd.read_csv('student_performance_dataset.csv')  "
   ]
  },
  {
   "cell_type": "markdown",
   "id": "5ef060c9-2ab4-4170-b143-a42c88500d82",
   "metadata": {},
   "source": [
    "# 3. Explore the data"
   ]
  },
  {
   "cell_type": "code",
   "execution_count": 6,
   "id": "62474f33-03c5-4f16-adfe-db52a0dc41ff",
   "metadata": {},
   "outputs": [
    {
     "name": "stdout",
     "output_type": "stream",
     "text": [
      "  Student_ID  Gender  Study_Hours_per_Week  Attendance_Rate  Past_Exam_Scores  \\\n",
      "0       S147    Male                    31        68.267841                86   \n",
      "1       S136    Male                    16        78.222927                73   \n",
      "2       S209  Female                    21        87.525096                74   \n",
      "3       S458  Female                    27        92.076483                99   \n",
      "4       S078  Female                    37        98.655517                63   \n",
      "\n",
      "  Parental_Education_Level Internet_Access_at_Home Extracurricular_Activities  \\\n",
      "0              High School                     Yes                        Yes   \n",
      "1                      PhD                      No                         No   \n",
      "2                      PhD                     Yes                         No   \n",
      "3                Bachelors                      No                         No   \n",
      "4                  Masters                      No                        Yes   \n",
      "\n",
      "   Final_Exam_Score Pass_Fail  \n",
      "0                63      Pass  \n",
      "1                50      Fail  \n",
      "2                55      Fail  \n",
      "3                65      Pass  \n",
      "4                70      Pass  \n",
      "<class 'pandas.core.frame.DataFrame'>\n",
      "RangeIndex: 708 entries, 0 to 707\n",
      "Data columns (total 10 columns):\n",
      " #   Column                      Non-Null Count  Dtype  \n",
      "---  ------                      --------------  -----  \n",
      " 0   Student_ID                  708 non-null    object \n",
      " 1   Gender                      708 non-null    object \n",
      " 2   Study_Hours_per_Week        708 non-null    int64  \n",
      " 3   Attendance_Rate             708 non-null    float64\n",
      " 4   Past_Exam_Scores            708 non-null    int64  \n",
      " 5   Parental_Education_Level    708 non-null    object \n",
      " 6   Internet_Access_at_Home     708 non-null    object \n",
      " 7   Extracurricular_Activities  708 non-null    object \n",
      " 8   Final_Exam_Score            708 non-null    int64  \n",
      " 9   Pass_Fail                   708 non-null    object \n",
      "dtypes: float64(1), int64(3), object(6)\n",
      "memory usage: 55.4+ KB\n",
      "None\n",
      "       Study_Hours_per_Week  Attendance_Rate  Past_Exam_Scores  \\\n",
      "count            708.000000       708.000000        708.000000   \n",
      "mean              26.132768        78.107722         77.871469   \n",
      "std                8.877727        13.802802         14.402739   \n",
      "min               10.000000        50.116970         50.000000   \n",
      "25%               19.000000        67.550094         65.000000   \n",
      "50%               27.000000        79.363046         79.000000   \n",
      "75%               34.000000        89.504232         91.000000   \n",
      "max               39.000000        99.967675        100.000000   \n",
      "\n",
      "       Final_Exam_Score  \n",
      "count        708.000000  \n",
      "mean          58.771186  \n",
      "std            6.705877  \n",
      "min           50.000000  \n",
      "25%           52.000000  \n",
      "50%           59.500000  \n",
      "75%           64.000000  \n",
      "max           77.000000  \n",
      "Student_ID                    0\n",
      "Gender                        0\n",
      "Study_Hours_per_Week          0\n",
      "Attendance_Rate               0\n",
      "Past_Exam_Scores              0\n",
      "Parental_Education_Level      0\n",
      "Internet_Access_at_Home       0\n",
      "Extracurricular_Activities    0\n",
      "Final_Exam_Score              0\n",
      "Pass_Fail                     0\n",
      "dtype: int64\n"
     ]
    }
   ],
   "source": [
    "print(df.head())\n",
    "print(df.info())\n",
    "print(df.describe())\n",
    "print(df.isnull().sum())  "
   ]
  },
  {
   "cell_type": "markdown",
   "id": "a3d2503c-72cc-4bc4-8beb-394277d87283",
   "metadata": {},
   "source": [
    "# 4. Handle missing values"
   ]
  },
  {
   "cell_type": "code",
   "execution_count": 8,
   "id": "206b66a3-c0a9-409c-838f-daa121824f47",
   "metadata": {},
   "outputs": [],
   "source": [
    "num_cols = df.select_dtypes(include=['int64', 'float64']).columns\n",
    "cat_cols = df.select_dtypes(include=['object']).columns"
   ]
  },
  {
   "cell_type": "markdown",
   "id": "167ff01f-29f7-4c25-be3d-0a19c80b869f",
   "metadata": {},
   "source": [
    "## Impute numerical columns with mean"
   ]
  },
  {
   "cell_type": "code",
   "execution_count": 10,
   "id": "560f958e-2519-42c9-849c-0b8dd945e261",
   "metadata": {},
   "outputs": [],
   "source": [
    "num_imputer = SimpleImputer(strategy='mean')\n",
    "df[num_cols] = num_imputer.fit_transform(df[num_cols])"
   ]
  },
  {
   "cell_type": "markdown",
   "id": "b85bd180-34ab-47db-9ac3-1282b43c8fdc",
   "metadata": {},
   "source": [
    "## Impute categorical columns with most frequent"
   ]
  },
  {
   "cell_type": "code",
   "execution_count": 12,
   "id": "faea211d-9354-469e-9a50-1c687de06bf8",
   "metadata": {},
   "outputs": [],
   "source": [
    "cat_imputer = SimpleImputer(strategy='most_frequent')\n",
    "df[cat_cols] = cat_imputer.fit_transform(df[cat_cols])"
   ]
  },
  {
   "cell_type": "markdown",
   "id": "b55b012d-5ba4-4f30-914c-ed2a5d2bce48",
   "metadata": {},
   "source": [
    "# 5. Encode categorical variables"
   ]
  },
  {
   "cell_type": "code",
   "execution_count": 14,
   "id": "0f3de9f5-e5b3-4944-9ac0-de8c3ed2bf38",
   "metadata": {},
   "outputs": [],
   "source": [
    "df = pd.get_dummies(df, columns=cat_cols, drop_first=True)"
   ]
  },
  {
   "cell_type": "markdown",
   "id": "c8b837bb-d61c-4612-9624-0cae28c6b34a",
   "metadata": {},
   "source": [
    "# 6. Feature Scaling"
   ]
  },
  {
   "cell_type": "code",
   "execution_count": 16,
   "id": "6295c33c-ba94-4a64-a8a7-c860c648ec92",
   "metadata": {},
   "outputs": [],
   "source": [
    "scaler = StandardScaler()\n",
    "df[num_cols] = scaler.fit_transform(df[num_cols])"
   ]
  },
  {
   "cell_type": "markdown",
   "id": "d89a953e-c841-49fb-a1d0-6c5c0c8c63b5",
   "metadata": {},
   "source": [
    "# 7. Split dataset into features (X) and target (y)"
   ]
  },
  {
   "cell_type": "code",
   "execution_count": 18,
   "id": "b4b577fd-52b0-407b-8f0e-8809cc53dccd",
   "metadata": {},
   "outputs": [],
   "source": [
    "X = df.drop('Study_Hours_per_Week', axis=1)  \n",
    "y = df['Study_Hours_per_Week']"
   ]
  },
  {
   "cell_type": "markdown",
   "id": "0c3f9394-e46d-4bc3-bd27-f01254c1af57",
   "metadata": {},
   "source": [
    "# 8. Train-test split"
   ]
  },
  {
   "cell_type": "code",
   "execution_count": 20,
   "id": "ee365ad7-81ef-40f8-9329-b3500de23a7c",
   "metadata": {},
   "outputs": [],
   "source": [
    "X_train, X_test, y_train, y_test = train_test_split(\n",
    "    X, y, test_size=0.2, random_state=42\n",
    ")"
   ]
  },
  {
   "cell_type": "markdown",
   "id": "8d6eede6-3a92-47d4-8677-dcfeed6eee6b",
   "metadata": {},
   "source": [
    "# 9. Final check"
   ]
  },
  {
   "cell_type": "code",
   "execution_count": 22,
   "id": "2254b8a3-4da7-46f3-a350-9f707decdbd5",
   "metadata": {},
   "outputs": [
    {
     "name": "stdout",
     "output_type": "stream",
     "text": [
      "Training data shape: (566, 509)\n",
      "Testing data shape: (142, 509)\n"
     ]
    }
   ],
   "source": [
    "print(\"Training data shape:\", X_train.shape)\n",
    "print(\"Testing data shape:\", X_test.shape)"
   ]
  },
  {
   "cell_type": "code",
   "execution_count": null,
   "id": "e9b03745-b476-49a1-9edb-62e20d806022",
   "metadata": {},
   "outputs": [],
   "source": []
  }
 ],
 "metadata": {
  "kernelspec": {
   "display_name": "Python [conda env:base] *",
   "language": "python",
   "name": "conda-base-py"
  },
  "language_info": {
   "codemirror_mode": {
    "name": "ipython",
    "version": 3
   },
   "file_extension": ".py",
   "mimetype": "text/x-python",
   "name": "python",
   "nbconvert_exporter": "python",
   "pygments_lexer": "ipython3",
   "version": "3.12.7"
  }
 },
 "nbformat": 4,
 "nbformat_minor": 5
}
